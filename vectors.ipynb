{
  "nbformat": 4,
  "nbformat_minor": 0,
  "metadata": {
    "colab": {
      "name": "vectors.ipynb",
      "provenance": [],
      "authorship_tag": "ABX9TyNGRjmrGkVg/7XJG9PRib6K",
      "include_colab_link": true
    },
    "kernelspec": {
      "name": "python3",
      "display_name": "Python 3"
    }
  },
  "cells": [
    {
      "cell_type": "markdown",
      "metadata": {
        "id": "view-in-github",
        "colab_type": "text"
      },
      "source": [
        "<a href=\"https://colab.research.google.com/github/anirudhpnbb/Primitive-Neurons/blob/master/vectors.ipynb\" target=\"_parent\"><img src=\"https://colab.research.google.com/assets/colab-badge.svg\" alt=\"Open In Colab\"/></a>"
      ]
    },
    {
      "cell_type": "code",
      "metadata": {
        "id": "9HR-YUqFlmw2",
        "colab_type": "code",
        "colab": {}
      },
      "source": [
        "import numpy as np\n",
        "from matplotlib import pyplot as plt"
      ],
      "execution_count": null,
      "outputs": []
    },
    {
      "cell_type": "markdown",
      "metadata": {
        "id": "0q1wxce-ptSH",
        "colab_type": "text"
      },
      "source": [
        "# Vector plotting"
      ]
    },
    {
      "cell_type": "code",
      "metadata": {
        "id": "hl5YL9urlt_U",
        "colab_type": "code",
        "colab": {
          "base_uri": "https://localhost:8080/",
          "height": 265
        },
        "outputId": "00c93ac3-9029-4fc6-88fc-f45b8546e313"
      },
      "source": [
        "plt.quiver(0,0,3,4)\n",
        "plt.show()"
      ],
      "execution_count": null,
      "outputs": [
        {
          "output_type": "display_data",
          "data": {
            "image/png": "[encoded data removed]",
            "text/plain": [
              "<Figure size 432x288 with 1 Axes>"
            ]
          },
          "metadata": {
            "tags": [],
            "needs_background": "light"
          }
        }
      ]
    },
    {
      "cell_type": "code",
      "metadata": {
        "id": "wbJuLYjYlwv-",
        "colab_type": "code",
        "colab": {
          "base_uri": "https://localhost:8080/",
          "height": 269
        },
        "outputId": "69401401-4f65-4e11-9af1-814a4e9d4b06"
      },
      "source": [
        "plt.quiver(0,0,3,4, scale_units = \"xy\", angles = \"xy\", scale = 1)\n",
        "plt.xlim(-10,10)\n",
        "plt.ylim(-10,10)\n",
        "plt.show()"
      ],
      "execution_count": null,
      "outputs": [
        {
          "output_type": "display_data",
          "data": {
            "image/png": "[encoded data removed]",
            "text/plain": [
              "<Figure size 432x288 with 1 Axes>"
            ]
          },
          "metadata": {
            "tags": [],
            "needs_background": "light"
          }
        }
      ]
    },
    {
      "cell_type": "code",
      "metadata": {
        "id": "kcN-6NP-l-ph",
        "colab_type": "code",
        "colab": {
          "base_uri": "https://localhost:8080/",
          "height": 269
        },
        "outputId": "8d3e1de8-0c2d-4c0e-d19b-5dba58e543d7"
      },
      "source": [
        "plt.quiver(0,0,3,4, scale_units = \"xy\", angles = \"xy\", scale = 1, color = 'r')\n",
        "plt.quiver(0,0,-3,4, scale_units = \"xy\", angles = \"xy\", scale = 1, color = 'g')\n",
        "plt.xlim(-10,10)\n",
        "plt.ylim(-10,10)\n",
        "plt.show()"
      ],
      "execution_count": null,
      "outputs": [
        {
          "output_type": "display_data",
          "data": {
            "image/png": "[encoded data removed]",
            "text/plain": [
              "<Figure size 432x288 with 1 Axes>"
            ]
          },
          "metadata": {
            "tags": [],
            "needs_background": "light"
          }
        }
      ]
    },
    {
      "cell_type": "code",
      "metadata": {
        "id": "wemHznEemXdE",
        "colab_type": "code",
        "colab": {}
      },
      "source": [
        "def vectors_plot(vector_list):\n",
        "  colors = ['r', 'b', 'g', 'y']\n",
        "  a = 0\n",
        "  for vec in vector_list:\n",
        "    plt.quiver(vec[0], vec[1], vec[2], vec[3], scale_units = \"xy\", angles = \"xy\",\n",
        "               scale = 1, color = colors[a%len(colors)])\n",
        "    a += 1\n",
        "  plt.xlim(-10,10)\n",
        "  plt.ylim(-10,10)\n",
        "  plt.show()"
      ],
      "execution_count": null,
      "outputs": []
    },
    {
      "cell_type": "code",
      "metadata": {
        "id": "hVvVkbEDm9RS",
        "colab_type": "code",
        "colab": {
          "base_uri": "https://localhost:8080/",
          "height": 269
        },
        "outputId": "2942d34c-2d19-4377-c0ac-cb468292569c"
      },
      "source": [
        "vectors_plot([(0,0,3,4), (0,0,-3,4), (0,0,-3,-2), (0,0,4,-1)])"
      ],
      "execution_count": null,
      "outputs": [
        {
          "output_type": "display_data",
          "data": {
            "image/png": "[encoded data removed]",
            "text/plain": [
              "<Figure size 432x288 with 1 Axes>"
            ]
          },
          "metadata": {
            "tags": [],
            "needs_background": "light"
          }
        }
      ]
    },
    {
      "cell_type": "code",
      "metadata": {
        "id": "AvZVSTAgnA_y",
        "colab_type": "code",
        "colab": {}
      },
      "source": [
        "vecs = [np.asarray([0,0,3,4]), np.asarray([0,0,-3,4]), np.asarray([0,0,-3,-2]), np.asarray([0,0,4,-1])]"
      ],
      "execution_count": null,
      "outputs": []
    },
    {
      "cell_type": "code",
      "metadata": {
        "id": "xFNPCm39oAhl",
        "colab_type": "code",
        "colab": {
          "base_uri": "https://localhost:8080/",
          "height": 269
        },
        "outputId": "248c4c6a-61d1-4604-ba8c-a0f09c6187f9"
      },
      "source": [
        "vectors_plot([vecs[0], vecs[3]])"
      ],
      "execution_count": null,
      "outputs": [
        {
          "output_type": "display_data",
          "data": {
            "image/png": "[encoded data removed]",
            "text/plain": [
              "<Figure size 432x288 with 1 Axes>"
            ]
          },
          "metadata": {
            "tags": [],
            "needs_background": "light"
          }
        }
      ]
    },
    {
      "cell_type": "markdown",
      "metadata": {
        "id": "kjoqfPq3pyZg",
        "colab_type": "text"
      },
      "source": [
        "# Vector addition and subtraction."
      ]
    },
    {
      "cell_type": "code",
      "metadata": {
        "id": "TK234B7SoFmM",
        "colab_type": "code",
        "colab": {
          "base_uri": "https://localhost:8080/",
          "height": 34
        },
        "outputId": "f188f9aa-62bd-4215-8c3f-72a93068a4e2"
      },
      "source": [
        "vecs[0] + vecs[3]"
      ],
      "execution_count": null,
      "outputs": [
        {
          "output_type": "execute_result",
          "data": {
            "text/plain": [
              "array([0, 0, 7, 3])"
            ]
          },
          "metadata": {
            "tags": []
          },
          "execution_count": 28
        }
      ]
    },
    {
      "cell_type": "code",
      "metadata": {
        "id": "1rONZA0zo5OF",
        "colab_type": "code",
        "colab": {
          "base_uri": "https://localhost:8080/",
          "height": 269
        },
        "outputId": "ca8579a4-8c8d-41b1-8886-5d13e26d965f"
      },
      "source": [
        "vectors_plot([vecs[0], vecs[3], vecs[0] + vecs[3]])"
      ],
      "execution_count": null,
      "outputs": [
        {
          "output_type": "display_data",
          "data": {
            "image/png": "[encoded data removed]",
            "text/plain": [
              "<Figure size 432x288 with 1 Axes>"
            ]
          },
          "metadata": {
            "tags": [],
            "needs_background": "light"
          }
        }
      ]
    },
    {
      "cell_type": "code",
      "metadata": {
        "id": "DNrlgePCpKT3",
        "colab_type": "code",
        "colab": {
          "base_uri": "https://localhost:8080/",
          "height": 269
        },
        "outputId": "3ba5dd4a-83eb-4110-dcf3-96408342bc03"
      },
      "source": [
        "vectors_plot([vecs[0], vecs[3], vecs[0] - vecs[3]])"
      ],
      "execution_count": null,
      "outputs": [
        {
          "output_type": "display_data",
          "data": {
            "image/png": "[encoded data removed]",
            "text/plain": [
              "<Figure size 432x288 with 1 Axes>"
            ]
          },
          "metadata": {
            "tags": [],
            "needs_background": "light"
          }
        }
      ]
    },
    {
      "cell_type": "markdown",
      "metadata": {
        "id": "jHSZPu17pnOR",
        "colab_type": "text"
      },
      "source": [
        "# Vector dot product"
      ]
    },
    {
      "cell_type": "code",
      "metadata": {
        "id": "4rrNYVsMppQz",
        "colab_type": "code",
        "colab": {
          "base_uri": "https://localhost:8080/",
          "height": 269
        },
        "outputId": "5e6ba65f-b188-4ec5-9334-aeca1084229d"
      },
      "source": [
        "vectors_plot(vecs)"
      ],
      "execution_count": null,
      "outputs": [
        {
          "output_type": "display_data",
          "data": {
            "image/png": "[encoded data removed]",
            "text/plain": [
              "<Figure size 432x288 with 1 Axes>"
            ]
          },
          "metadata": {
            "tags": [],
            "needs_background": "light"
          }
        }
      ]
    },
    {
      "cell_type": "code",
      "metadata": {
        "id": "uNFgHUw0p-G2",
        "colab_type": "code",
        "colab": {}
      },
      "source": [
        "a = np.asarray([3, 4])\n",
        "b = np.asarray([4, -1])"
      ],
      "execution_count": null,
      "outputs": []
    },
    {
      "cell_type": "markdown",
      "metadata": {
        "id": "ca6VxTlCqJ34",
        "colab_type": "text"
      },
      "source": [
        "$\\vec{a}\\cdot\\vec{b} = |\\vec{a}||\\vec{b}| \\cos(\\theta) = a_xb_x + a_yb_y$"
      ]
    },
    {
      "cell_type": "code",
      "metadata": {
        "id": "Jd666jNMqIwg",
        "colab_type": "code",
        "colab": {}
      },
      "source": [
        "a_dot_b = np.dot(a, b)"
      ],
      "execution_count": null,
      "outputs": []
    },
    {
      "cell_type": "code",
      "metadata": {
        "id": "HOO6gQ_Lq_a6",
        "colab_type": "code",
        "colab": {
          "base_uri": "https://localhost:8080/",
          "height": 34
        },
        "outputId": "92dc44c8-4673-4b2f-bea9-e82cf47703c4"
      },
      "source": [
        "a_dot_b"
      ],
      "execution_count": null,
      "outputs": [
        {
          "output_type": "execute_result",
          "data": {
            "text/plain": [
              "8"
            ]
          },
          "metadata": {
            "tags": []
          },
          "execution_count": 35
        }
      ]
    },
    {
      "cell_type": "markdown",
      "metadata": {
        "id": "Z_pBJchKrGwM",
        "colab_type": "text"
      },
      "source": [
        "$a_b = |\\vec{a}|\\cos(\\theta) = |\\vec{a}|\\frac{\\vec{a}\\cdot\\vec{b}}{|\\vec{a}||\\vec{b}|} = \\frac{\\vec{a}\\cdot\\vec{b}}{|\\vec{b}|}$"
      ]
    },
    {
      "cell_type": "code",
      "metadata": {
        "id": "qq2kVzyHrYgP",
        "colab_type": "code",
        "colab": {}
      },
      "source": [
        "a_b = np.dot(a, b)/np.linalg.norm(b)"
      ],
      "execution_count": null,
      "outputs": []
    },
    {
      "cell_type": "code",
      "metadata": {
        "id": "ZVheQyUBsbqI",
        "colab_type": "code",
        "colab": {
          "base_uri": "https://localhost:8080/",
          "height": 34
        },
        "outputId": "5025c780-05a2-4f08-dd24-a99436a8c8e8"
      },
      "source": [
        "a_b"
      ],
      "execution_count": null,
      "outputs": [
        {
          "output_type": "execute_result",
          "data": {
            "text/plain": [
              "1.9402850002906638"
            ]
          },
          "metadata": {
            "tags": []
          },
          "execution_count": 37
        }
      ]
    },
    {
      "cell_type": "markdown",
      "metadata": {
        "id": "f7zgwyxssmFG",
        "colab_type": "text"
      },
      "source": [
        "$\\vec{a_b} = a_b \\hat{b} \\frac{\\vec{b}}{|\\vec{b}|}$"
      ]
    },
    {
      "cell_type": "code",
      "metadata": {
        "id": "9scHQBtvs2Hf",
        "colab_type": "code",
        "colab": {}
      },
      "source": [
        "vec_a_b = (a_b/np.linalg.norm(b))*b"
      ],
      "execution_count": null,
      "outputs": []
    },
    {
      "cell_type": "code",
      "metadata": {
        "id": "UaUDz26Ds6R_",
        "colab_type": "code",
        "colab": {
          "base_uri": "https://localhost:8080/",
          "height": 34
        },
        "outputId": "9a9432ff-c27f-4f94-c0bf-d0b9038dece0"
      },
      "source": [
        "vec_a_b"
      ],
      "execution_count": null,
      "outputs": [
        {
          "output_type": "execute_result",
          "data": {
            "text/plain": [
              "array([ 1.88235294, -0.47058824])"
            ]
          },
          "metadata": {
            "tags": []
          },
          "execution_count": 40
        }
      ]
    },
    {
      "cell_type": "code",
      "metadata": {
        "id": "CuZJCw5cs-jC",
        "colab_type": "code",
        "colab": {
          "base_uri": "https://localhost:8080/",
          "height": 269
        },
        "outputId": "c15b6f71-ce21-489e-b2a4-895f5898dcc4"
      },
      "source": [
        "vectors_plot([vecs[0], vecs[3], np.asarray([0, 0, 1.88235294, -0.47058824])])"
      ],
      "execution_count": null,
      "outputs": [
        {
          "output_type": "display_data",
          "data": {
            "image/png": "[encoded data removed]",
            "text/plain": [
              "<Figure size 432x288 with 1 Axes>"
            ]
          },
          "metadata": {
            "tags": [],
            "needs_background": "light"
          }
        }
      ]
    },
    {
      "cell_type": "code",
      "metadata": {
        "colab_type": "code",
        "id": "vQNWIuUwtfer",
        "colab": {}
      },
      "source": [
        "a = np.asarray([3, 4])\n",
        "b = np.asarray([-3, -2])"
      ],
      "execution_count": null,
      "outputs": []
    },
    {
      "cell_type": "markdown",
      "metadata": {
        "colab_type": "text",
        "id": "Bxx0CuAQtfe2"
      },
      "source": [
        "$\\vec{a}\\cdot\\vec{b} = |\\vec{a}||\\vec{b}| \\cos(\\theta) = a_xb_x + a_yb_y$"
      ]
    },
    {
      "cell_type": "code",
      "metadata": {
        "colab_type": "code",
        "id": "eq4BQj2itfe3",
        "colab": {}
      },
      "source": [
        "a_dot_b = np.dot(a, b)"
      ],
      "execution_count": null,
      "outputs": []
    },
    {
      "cell_type": "code",
      "metadata": {
        "colab_type": "code",
        "id": "KfFtSNw2tfe9",
        "colab": {
          "base_uri": "https://localhost:8080/",
          "height": 34
        },
        "outputId": "6595c052-dc70-4aa5-94ff-a03c6b7e21d8"
      },
      "source": [
        "a_dot_b"
      ],
      "execution_count": null,
      "outputs": [
        {
          "output_type": "execute_result",
          "data": {
            "text/plain": [
              "-17"
            ]
          },
          "metadata": {
            "tags": []
          },
          "execution_count": 46
        }
      ]
    },
    {
      "cell_type": "markdown",
      "metadata": {
        "colab_type": "text",
        "id": "_uUnJ4zStffC"
      },
      "source": [
        "$a_b = |\\vec{a}|\\cos(\\theta) = |\\vec{a}|\\frac{\\vec{a}\\cdot\\vec{b}}{|\\vec{a}||\\vec{b}|} = \\frac{\\vec{a}\\cdot\\vec{b}}{|\\vec{b}|}$"
      ]
    },
    {
      "cell_type": "code",
      "metadata": {
        "colab_type": "code",
        "id": "Uhlc5AI8tffD",
        "colab": {}
      },
      "source": [
        "a_b = np.dot(a, b)/np.linalg.norm(b)"
      ],
      "execution_count": null,
      "outputs": []
    },
    {
      "cell_type": "code",
      "metadata": {
        "colab_type": "code",
        "id": "unl3bVodtffJ",
        "colab": {
          "base_uri": "https://localhost:8080/",
          "height": 34
        },
        "outputId": "9f120085-02aa-4863-9567-2ae07aa7e368"
      },
      "source": [
        "a_b"
      ],
      "execution_count": null,
      "outputs": [
        {
          "output_type": "execute_result",
          "data": {
            "text/plain": [
              "-4.714951667914447"
            ]
          },
          "metadata": {
            "tags": []
          },
          "execution_count": 48
        }
      ]
    },
    {
      "cell_type": "markdown",
      "metadata": {
        "colab_type": "text",
        "id": "vsaByGWTtffN"
      },
      "source": [
        "$\\vec{a_b} = a_b \\hat{b} \\frac{\\vec{b}}{|\\vec{b}|}$"
      ]
    },
    {
      "cell_type": "code",
      "metadata": {
        "colab_type": "code",
        "id": "_6lNRQKZtffO",
        "colab": {}
      },
      "source": [
        "vec_a_b = (a_b/np.linalg.norm(b))*b"
      ],
      "execution_count": null,
      "outputs": []
    },
    {
      "cell_type": "code",
      "metadata": {
        "colab_type": "code",
        "id": "9n802bbvtffS",
        "colab": {
          "base_uri": "https://localhost:8080/",
          "height": 34
        },
        "outputId": "5699ef1c-42e5-4667-d3bc-6cfa565d1edd"
      },
      "source": [
        "vec_a_b"
      ],
      "execution_count": null,
      "outputs": [
        {
          "output_type": "execute_result",
          "data": {
            "text/plain": [
              "array([3.92307692, 2.61538462])"
            ]
          },
          "metadata": {
            "tags": []
          },
          "execution_count": 50
        }
      ]
    },
    {
      "cell_type": "code",
      "metadata": {
        "colab_type": "code",
        "id": "-Z16a4kqtffY",
        "colab": {
          "base_uri": "https://localhost:8080/",
          "height": 269
        },
        "outputId": "ce1bad19-44b4-4318-a72b-7bd9caaf7ca9"
      },
      "source": [
        "vectors_plot([vecs[0], vecs[2], np.asarray([0, 0, 3.92307692, 2.61538462])])"
      ],
      "execution_count": null,
      "outputs": [
        {
          "output_type": "display_data",
          "data": {
            "image/png": "[encoded data removed]",
            "text/plain": [
              "<Figure size 432x288 with 1 Axes>"
            ]
          },
          "metadata": {
            "tags": [],
            "needs_background": "light"
          }
        }
      ]
    },
    {
      "cell_type": "code",
      "metadata": {
        "id": "E_Q3dhA9t1bV",
        "colab_type": "code",
        "colab": {}
      },
      "source": [
        "a = np.asarray([9, 2])\n",
        "b = np.asarray([-5, 4])\n",
        "a_dot_b = np.dot(a, b)"
      ],
      "execution_count": null,
      "outputs": []
    },
    {
      "cell_type": "code",
      "metadata": {
        "id": "9OCjfgoOt5VT",
        "colab_type": "code",
        "colab": {
          "base_uri": "https://localhost:8080/",
          "height": 34
        },
        "outputId": "184abf6c-1e6e-4e5b-a2ad-394083fe8d24"
      },
      "source": [
        "a_dot_b"
      ],
      "execution_count": null,
      "outputs": [
        {
          "output_type": "execute_result",
          "data": {
            "text/plain": [
              "-37"
            ]
          },
          "metadata": {
            "tags": []
          },
          "execution_count": 54
        }
      ]
    },
    {
      "cell_type": "code",
      "metadata": {
        "id": "nbrHsz5vt_J4",
        "colab_type": "code",
        "colab": {}
      },
      "source": [
        "a_b = np.dot(a, b)/np.linalg.norm(b)"
      ],
      "execution_count": null,
      "outputs": []
    },
    {
      "cell_type": "code",
      "metadata": {
        "id": "CAYnMMrAt_sl",
        "colab_type": "code",
        "colab": {}
      },
      "source": [
        "vec_a_b = (a_b/np.linalg.norm(b))*b"
      ],
      "execution_count": null,
      "outputs": []
    },
    {
      "cell_type": "code",
      "metadata": {
        "id": "6I-UPdCYuIUn",
        "colab_type": "code",
        "colab": {
          "base_uri": "https://localhost:8080/",
          "height": 34
        },
        "outputId": "a18a3a75-6006-4f5c-97af-78c2b32f3096"
      },
      "source": [
        "vec_a_b"
      ],
      "execution_count": null,
      "outputs": [
        {
          "output_type": "execute_result",
          "data": {
            "text/plain": [
              "array([ 4.51219512, -3.6097561 ])"
            ]
          },
          "metadata": {
            "tags": []
          },
          "execution_count": 57
        }
      ]
    },
    {
      "cell_type": "code",
      "metadata": {
        "id": "rAObq71yuJNm",
        "colab_type": "code",
        "colab": {}
      },
      "source": [
        ""
      ],
      "execution_count": null,
      "outputs": []
    }
  ]
}